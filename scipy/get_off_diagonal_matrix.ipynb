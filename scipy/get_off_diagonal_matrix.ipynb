{
 "cells": [
  {
   "cell_type": "code",
   "execution_count": 14,
   "metadata": {},
   "outputs": [],
   "source": [
    "import os\n",
    "import numpy as np\n",
    "import scipy.spatial.distance\n",
    "import matplotlib\n",
    "import matplotlib.pyplot as plt\n",
    "import scipy.stats"
   ]
  },
  {
   "cell_type": "markdown",
   "metadata": {},
   "source": [
    "## get a symmetric matrix"
   ]
  },
  {
   "cell_type": "code",
   "execution_count": 15,
   "metadata": {},
   "outputs": [
    {
     "data": {
      "text/plain": [
       "<matplotlib.image.AxesImage at 0x2f0c61b5700>"
      ]
     },
     "execution_count": 15,
     "metadata": {},
     "output_type": "execute_result"
    },
    {
     "data": {
      "image/png": "[encoded data removed]",
      "text/plain": [
       "<Figure size 432x288 with 1 Axes>"
      ]
     },
     "metadata": {
      "needs_background": "light"
     },
     "output_type": "display_data"
    }
   ],
   "source": [
    "# (20 conditions, 100 features)\n",
    "n_conds = 20\n",
    "n_features = 100\n",
    "\n",
    "data = np.random.rand(n_conds, n_features)\n",
    "\n",
    "rdm = np.zeros([n_conds, n_conds])\n",
    "\n",
    "for idx_row in range(n_conds):\n",
    "    for idx_col in range(n_conds):\n",
    "        if idx_row > idx_col:  # off-diagonal part\n",
    "            row_data = data[idx_row, :]\n",
    "            col_data = data[idx_col, :]\n",
    "            corr_coef = scipy.stats.pearsonr(row_data, col_data)[0]  # return r_val, p_val\n",
    "\n",
    "            rdm[idx_row, idx_col] = corr_coef\n",
    "            rdm[idx_col, idx_row] = rdm[idx_row, idx_col]\n",
    "\n",
    "plt.imshow(rdm)\n"
   ]
  },
  {
   "cell_type": "markdown",
   "metadata": {},
   "source": [
    "## get off-diagonal part\n",
    "\n",
    "ref: https://stackoverflow.com/questions/14643756/inverse-function-of-scipy-spatial-distance-squareform\n",
    "     http://docs.scipy.org/doc/scipy/reference/generated/scipy.spatial.distance.squareform.html\n",
    "\n",
    "we could get it by scipy functions scipy.spatial.distance.squareform()\n",
    "\n",
    "the full matrix (n_conds, n_conds) are called redundant matrix\n",
    "the off-diagonal matrix are called condensed matrix"
   ]
  },
  {
   "cell_type": "code",
   "execution_count": 16,
   "metadata": {},
   "outputs": [
    {
     "name": "stdout",
     "output_type": "stream",
     "text": [
      "(190,)\n"
     ]
    }
   ],
   "source": [
    "condensed_mat = scipy.spatial.distance.squareform(rdm)\n",
    "print(condensed_mat.shape)"
   ]
  }
 ],
 "metadata": {
  "kernelspec": {
   "display_name": "Python 3.9.7 ('py39')",
   "language": "python",
   "name": "python3"
  },
  "language_info": {
   "codemirror_mode": {
    "name": "ipython",
    "version": 3
   },
   "file_extension": ".py",
   "mimetype": "text/x-python",
   "name": "python",
   "nbconvert_exporter": "python",
   "pygments_lexer": "ipython3",
   "version": "3.9.7"
  },
  "orig_nbformat": 4,
  "vscode": {
   "interpreter": {
    "hash": "8571e7f3e92f6e490cddd84ef78d4e4e0b96a1f565959148b10a39523fba88f5"
   }
  }
 },
 "nbformat": 4,
 "nbformat_minor": 2
}
